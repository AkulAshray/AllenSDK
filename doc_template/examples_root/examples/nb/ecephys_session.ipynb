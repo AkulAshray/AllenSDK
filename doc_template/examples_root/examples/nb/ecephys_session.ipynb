{
 "cells": [
  {
   "cell_type": "markdown",
   "metadata": {},
   "source": [
    "# Extracellular Electrophysiology Data\n",
    "\n",
    "At the Allen Institute for Brain Science we carry out in vivo extracellular electrophysiology (ecephys) experiments  in awake animals using high-density Neuropixels probes. The data from these experiments are organized into *sessions*, where each session is a distinct continuous recording period. During a session we collect:\n",
    "\n",
    "- spike times and characteristics (such as mean waveforms) from up to 6 neuropixels probes\n",
    "- local field potentials\n",
    "- behavioral data, such as running speed and eye position (TODO: eye position)\n",
    "- visual stimuli which were presented during the session\n",
    "- cell-type specific optogenetic stimuli that were applied during the session\n",
    "\n",
    "The AllenSDK contains code for accessing across-session (project-level) metadata as well as code for accessing detailed within-session data. The standard workflow is to use project-level tools, such as `EcephysProjectCache` to identify and access sessions of interest, then delve into those sessions' data using `EcephysSession`.\n",
    "\n",
    "\n",
    "Project-level\n",
    "------------------\n",
    "The `EcephysProjectCache` class in `allensdk.brain_observatory.ecephys.ecephys_project_cache` accesses and stores data pertaining to many sessions. You can use this class to run queries that span all collected sessions and to download data for individual sessions.\n",
    "* <a href='#Obtaining-an-EcephysProjectCache'>Obtaining an `EcephysProjectCache`</a>\n",
    "* <a href='#Querying-sessions'>Querying sessions</a>\n",
    "* <a href='#Querying-units'>Querying units</a>\n",
    "\n",
    "\n",
    "\n",
    "Session-level\n",
    "-------------------\n",
    "The `EcephysSession` class in `allensdk.brain_observatory.ecephys.ecephys_session` provides an interface to all of the data for a single session, aligned to a common clock. This notebook will show you how to use the `EcephysSession` class to extract these data.\n",
    "* <a href='#Obtaining-an-EcephysSession'>Obtaining an `EcephysSession`</a>\n",
    "* <a href='#Stimulus-presentations'>Stimulus information</a>\n",
    "* <a href='#Spike-data'>Spike data</a>\n",
    "* <a href='#Spike-histograms'>Spike histograms</a>\n",
    "* <a href='#Local-field-potential'>Local Field Potential</a>\n",
    "* <a href='#Waveforms'>Unitwise mean waveforms</a>\n",
    "* <a href='#Suggested-excercises'>Suggested excercises</a>"
   ]
  },
  {
   "cell_type": "code",
   "execution_count": 1,
   "metadata": {},
   "outputs": [],
   "source": [
    "# first we need a bit of import boilerplate\n",
    "import os\n",
    "\n",
    "import numpy as np\n",
    "import xarray as xr\n",
    "import pandas as pd\n",
    "import matplotlib.pyplot as plt\n",
    "from scipy.ndimage.filters import gaussian_filter\n",
    "\n",
    "from allensdk.brain_observatory.ecephys.ecephys_project_cache import EcephysProjectCache\n",
    "from allensdk.brain_observatory.ecephys.ecephys_session import (\n",
    "    EcephysSession, \n",
    "    removed_unused_stimulus_presentation_columns,\n",
    "    intervals_structures\n",
    ")\n",
    "from allensdk.brain_observatory.ecephys.visualization import plot_mean_waveforms, plot_spike_counts, raster_plot\n",
    "from allensdk.brain_observatory.visualization import plot_running_speed\n",
    "\n",
    "# tell pandas to show all columns when we display a DataFrame\n",
    "pd.set_option(\"display.max_columns\", None)"
   ]
  },
  {
   "cell_type": "markdown",
   "metadata": {},
   "source": [
    "### Obtaining an `EcephysProjectCache`\n",
    "\n",
    "In order to create an `EcephysProjectCache` object, you need to specify two things:\n",
    "1. A remote source for the object to fetch data from. We will instantiate our cache using `EcephysProjectCache.from_warehouse()` to point the cache at the Allen Institute's public web API.\n",
    "2. A path to a manifest json, which designates filesystem locations for downloaded data. The cache will try to read data from these locations before going to download those data from its remote source, preventing repeated downloads."
   ]
  },
  {
   "cell_type": "code",
   "execution_count": 2,
   "metadata": {},
   "outputs": [],
   "source": [
    "manifest_path = os.path.join('example_ecephys_project_cache', 'manifest.json')\n",
    "\n",
    "lims_config = {\n",
    "    \"pg_kwargs\": {\n",
    "        \"dbname\": \"lims2_nileg\",\n",
    "        \"host\": \"aibsdc-dev-db1\",\n",
    "        \"port\": 5432,\n",
    "        \"user\": \"limsreader\",\n",
    "        \"password\": \"limsro\"\n",
    "    },\n",
    "    \"app_kwargs\": {\n",
    "        \"host\": \"10.128.50.64:3000\"\n",
    "    }\n",
    "}\n",
    "\n",
    "cache = EcephysProjectCache.from_lims(manifest=manifest_path, lims_kwargs=lims_config)"
   ]
  },
  {
   "cell_type": "markdown",
   "metadata": {},
   "source": [
    "### Querying across sessions\n",
    "\n",
    "Using your `EcephysProjectCache`, you can download a table listing metadata for all sessions."
   ]
  },
  {
   "cell_type": "code",
   "execution_count": 3,
   "metadata": {},
   "outputs": [
    {
     "data": {
      "text/html": [
       "<div>\n",
       "<style scoped>\n",
       "    .dataframe tbody tr th:only-of-type {\n",
       "        vertical-align: middle;\n",
       "    }\n",
       "\n",
       "    .dataframe tbody tr th {\n",
       "        vertical-align: top;\n",
       "    }\n",
       "\n",
       "    .dataframe thead th {\n",
       "        text-align: right;\n",
       "    }\n",
       "</style>\n",
       "<table border=\"1\" class=\"dataframe\">\n",
       "  <thead>\n",
       "    <tr style=\"text-align: right;\">\n",
       "      <th></th>\n",
       "      <th>stimulus_set_name</th>\n",
       "      <th>specimen_id</th>\n",
       "      <th>genotype</th>\n",
       "      <th>gender</th>\n",
       "      <th>age</th>\n",
       "      <th>project_code</th>\n",
       "      <th>probe_count</th>\n",
       "      <th>channel_count</th>\n",
       "      <th>unit_count</th>\n",
       "      <th>has_nwb</th>\n",
       "      <th>channel_structure_acronyms</th>\n",
       "    </tr>\n",
       "    <tr>\n",
       "      <th>id</th>\n",
       "      <th></th>\n",
       "      <th></th>\n",
       "      <th></th>\n",
       "      <th></th>\n",
       "      <th></th>\n",
       "      <th></th>\n",
       "      <th></th>\n",
       "      <th></th>\n",
       "      <th></th>\n",
       "      <th></th>\n",
       "      <th></th>\n",
       "    </tr>\n",
       "  </thead>\n",
       "  <tbody>\n",
       "    <tr>\n",
       "      <th>715093703</th>\n",
       "      <td>brain_observatory_1.1</td>\n",
       "      <td>699733581</td>\n",
       "      <td>Sst-IRES-Cre/wt;Ai32(RCL-ChR2(H134R)_EYFP)/wt</td>\n",
       "      <td>M</td>\n",
       "      <td>P118</td>\n",
       "      <td>NeuropixelVisualCoding</td>\n",
       "      <td>6</td>\n",
       "      <td>765</td>\n",
       "      <td>1390</td>\n",
       "      <td>False</td>\n",
       "      <td>[CA, DG, MB, TH, VIS, VISam, VISl, VISp, VISpm...</td>\n",
       "    </tr>\n",
       "    <tr>\n",
       "      <th>719161530</th>\n",
       "      <td>brain_observatory_1.1</td>\n",
       "      <td>703279284</td>\n",
       "      <td>Sst-IRES-Cre/wt;Ai32(RCL-ChR2(H134R)_EYFP)/wt</td>\n",
       "      <td>M</td>\n",
       "      <td>P122</td>\n",
       "      <td>NeuropixelVisualCoding</td>\n",
       "      <td>6</td>\n",
       "      <td>616</td>\n",
       "      <td>1184</td>\n",
       "      <td>False</td>\n",
       "      <td>[CA, DG, MB, TH, VISal, VISam, VISl, VISp, VIS...</td>\n",
       "    </tr>\n",
       "    <tr>\n",
       "      <th>721123822</th>\n",
       "      <td>brain_observatory_1.1</td>\n",
       "      <td>707296982</td>\n",
       "      <td>Pvalb-IRES-Cre/wt;Ai32(RCL-ChR2(H134R)_EYFP)/wt</td>\n",
       "      <td>M</td>\n",
       "      <td>P125</td>\n",
       "      <td>NeuropixelVisualCoding</td>\n",
       "      <td>2</td>\n",
       "      <td>180</td>\n",
       "      <td>265</td>\n",
       "      <td>True</td>\n",
       "      <td>[CA, DG, MB, TH, VIS, VISal, VISam, VISl, VISp...</td>\n",
       "    </tr>\n",
       "    <tr>\n",
       "      <th>728680079</th>\n",
       "      <td>brain_observatory_1.1</td>\n",
       "      <td>714089558</td>\n",
       "      <td>Sst-IRES-Cre/wt;Ai32(RCL-ChR2(H134R)_EYFP)/wt</td>\n",
       "      <td>M</td>\n",
       "      <td>P109</td>\n",
       "      <td>NeuropixelVisualCoding</td>\n",
       "      <td>6</td>\n",
       "      <td>636</td>\n",
       "      <td>1126</td>\n",
       "      <td>False</td>\n",
       "      <td>[CA, DG, MB, TH, VIS, VISp, VISpm, VISrl, None]</td>\n",
       "    </tr>\n",
       "    <tr>\n",
       "      <th>729090175</th>\n",
       "      <td>brain_observatory_1.1</td>\n",
       "      <td>715075382</td>\n",
       "      <td>Pvalb-IRES-Cre/wt;Ai32(RCL-ChR2(H134R)_EYFP)/wt</td>\n",
       "      <td>F</td>\n",
       "      <td>P118</td>\n",
       "      <td>NeuropixelVisualCoding</td>\n",
       "      <td>6</td>\n",
       "      <td>594</td>\n",
       "      <td>1157</td>\n",
       "      <td>False</td>\n",
       "      <td>[CA, DG, TH, VISal, VISam, VISl, VISp, VISpm, ...</td>\n",
       "    </tr>\n",
       "  </tbody>\n",
       "</table>\n",
       "</div>"
      ],
      "text/plain": [
       "               stimulus_set_name  specimen_id  \\\n",
       "id                                              \n",
       "715093703  brain_observatory_1.1    699733581   \n",
       "719161530  brain_observatory_1.1    703279284   \n",
       "721123822  brain_observatory_1.1    707296982   \n",
       "728680079  brain_observatory_1.1    714089558   \n",
       "729090175  brain_observatory_1.1    715075382   \n",
       "\n",
       "                                                  genotype gender   age  \\\n",
       "id                                                                        \n",
       "715093703    Sst-IRES-Cre/wt;Ai32(RCL-ChR2(H134R)_EYFP)/wt      M  P118   \n",
       "719161530    Sst-IRES-Cre/wt;Ai32(RCL-ChR2(H134R)_EYFP)/wt      M  P122   \n",
       "721123822  Pvalb-IRES-Cre/wt;Ai32(RCL-ChR2(H134R)_EYFP)/wt      M  P125   \n",
       "728680079    Sst-IRES-Cre/wt;Ai32(RCL-ChR2(H134R)_EYFP)/wt      M  P109   \n",
       "729090175  Pvalb-IRES-Cre/wt;Ai32(RCL-ChR2(H134R)_EYFP)/wt      F  P118   \n",
       "\n",
       "                     project_code  probe_count  channel_count  unit_count  \\\n",
       "id                                                                          \n",
       "715093703  NeuropixelVisualCoding            6            765        1390   \n",
       "719161530  NeuropixelVisualCoding            6            616        1184   \n",
       "721123822  NeuropixelVisualCoding            2            180         265   \n",
       "728680079  NeuropixelVisualCoding            6            636        1126   \n",
       "729090175  NeuropixelVisualCoding            6            594        1157   \n",
       "\n",
       "           has_nwb                         channel_structure_acronyms  \n",
       "id                                                                     \n",
       "715093703    False  [CA, DG, MB, TH, VIS, VISam, VISl, VISp, VISpm...  \n",
       "719161530    False  [CA, DG, MB, TH, VISal, VISam, VISl, VISp, VIS...  \n",
       "721123822     True  [CA, DG, MB, TH, VIS, VISal, VISam, VISl, VISp...  \n",
       "728680079    False    [CA, DG, MB, TH, VIS, VISp, VISpm, VISrl, None]  \n",
       "729090175    False  [CA, DG, TH, VISal, VISam, VISl, VISp, VISpm, ...  "
      ]
     },
     "execution_count": 3,
     "metadata": {},
     "output_type": "execute_result"
    }
   ],
   "source": [
    "cache.get_sessions().head()"
   ]
  },
  {
   "cell_type": "markdown",
   "metadata": {},
   "source": [
    "### Querying across sessions\n",
    "\n",
    "... or for all probes"
   ]
  },
  {
   "cell_type": "code",
   "execution_count": 4,
   "metadata": {},
   "outputs": [
    {
     "data": {
      "text/html": [
       "<div>\n",
       "<style scoped>\n",
       "    .dataframe tbody tr th:only-of-type {\n",
       "        vertical-align: middle;\n",
       "    }\n",
       "\n",
       "    .dataframe tbody tr th {\n",
       "        vertical-align: top;\n",
       "    }\n",
       "\n",
       "    .dataframe thead th {\n",
       "        text-align: right;\n",
       "    }\n",
       "</style>\n",
       "<table border=\"1\" class=\"dataframe\">\n",
       "  <thead>\n",
       "    <tr style=\"text-align: right;\">\n",
       "      <th></th>\n",
       "      <th>ecephys_session_id</th>\n",
       "      <th>global_probe_sampling_rate</th>\n",
       "      <th>global_probe_lfp_sampling_rate</th>\n",
       "      <th>total_time_shift</th>\n",
       "      <th>channel_count</th>\n",
       "      <th>unit_count</th>\n",
       "      <th>has_lfp_nwb</th>\n",
       "      <th>channel_structure_acronyms</th>\n",
       "    </tr>\n",
       "    <tr>\n",
       "      <th>id</th>\n",
       "      <th></th>\n",
       "      <th></th>\n",
       "      <th></th>\n",
       "      <th></th>\n",
       "      <th></th>\n",
       "      <th></th>\n",
       "      <th></th>\n",
       "      <th></th>\n",
       "    </tr>\n",
       "  </thead>\n",
       "  <tbody>\n",
       "    <tr>\n",
       "      <th>729445648</th>\n",
       "      <td>719161530</td>\n",
       "      <td>29999.967397</td>\n",
       "      <td>2499.997283</td>\n",
       "      <td>-0.636519</td>\n",
       "      <td>103</td>\n",
       "      <td>178</td>\n",
       "      <td>False</td>\n",
       "      <td>['CA', 'DG', 'TH', 'VISam', None]</td>\n",
       "    </tr>\n",
       "    <tr>\n",
       "      <th>729445650</th>\n",
       "      <td>719161530</td>\n",
       "      <td>29999.918910</td>\n",
       "      <td>2499.993242</td>\n",
       "      <td>-0.661109</td>\n",
       "      <td>140</td>\n",
       "      <td>284</td>\n",
       "      <td>False</td>\n",
       "      <td>['CA', 'DG', 'MB', 'VISpm', None]</td>\n",
       "    </tr>\n",
       "    <tr>\n",
       "      <th>729445652</th>\n",
       "      <td>719161530</td>\n",
       "      <td>29999.997492</td>\n",
       "      <td>2499.999791</td>\n",
       "      <td>-0.619066</td>\n",
       "      <td>148</td>\n",
       "      <td>306</td>\n",
       "      <td>False</td>\n",
       "      <td>['CA', 'DG', 'TH', 'VISp', None]</td>\n",
       "    </tr>\n",
       "    <tr>\n",
       "      <th>729445654</th>\n",
       "      <td>719161530</td>\n",
       "      <td>29999.920895</td>\n",
       "      <td>2499.993408</td>\n",
       "      <td>-0.625545</td>\n",
       "      <td>91</td>\n",
       "      <td>184</td>\n",
       "      <td>False</td>\n",
       "      <td>['CA', 'DG', 'TH', 'VISl', None]</td>\n",
       "    </tr>\n",
       "    <tr>\n",
       "      <th>729445656</th>\n",
       "      <td>719161530</td>\n",
       "      <td>29999.999478</td>\n",
       "      <td>2499.999956</td>\n",
       "      <td>-0.624769</td>\n",
       "      <td>105</td>\n",
       "      <td>181</td>\n",
       "      <td>False</td>\n",
       "      <td>['CA', 'DG', 'TH', 'VISal', None]</td>\n",
       "    </tr>\n",
       "  </tbody>\n",
       "</table>\n",
       "</div>"
      ],
      "text/plain": [
       "           ecephys_session_id  global_probe_sampling_rate  \\\n",
       "id                                                          \n",
       "729445648           719161530                29999.967397   \n",
       "729445650           719161530                29999.918910   \n",
       "729445652           719161530                29999.997492   \n",
       "729445654           719161530                29999.920895   \n",
       "729445656           719161530                29999.999478   \n",
       "\n",
       "           global_probe_lfp_sampling_rate  total_time_shift  channel_count  \\\n",
       "id                                                                           \n",
       "729445648                     2499.997283         -0.636519            103   \n",
       "729445650                     2499.993242         -0.661109            140   \n",
       "729445652                     2499.999791         -0.619066            148   \n",
       "729445654                     2499.993408         -0.625545             91   \n",
       "729445656                     2499.999956         -0.624769            105   \n",
       "\n",
       "           unit_count  has_lfp_nwb         channel_structure_acronyms  \n",
       "id                                                                     \n",
       "729445648         178        False  ['CA', 'DG', 'TH', 'VISam', None]  \n",
       "729445650         284        False  ['CA', 'DG', 'MB', 'VISpm', None]  \n",
       "729445652         306        False   ['CA', 'DG', 'TH', 'VISp', None]  \n",
       "729445654         184        False   ['CA', 'DG', 'TH', 'VISl', None]  \n",
       "729445656         181        False  ['CA', 'DG', 'TH', 'VISal', None]  "
      ]
     },
     "execution_count": 4,
     "metadata": {},
     "output_type": "execute_result"
    }
   ],
   "source": [
    "cache.get_probes().head()"
   ]
  },
  {
   "cell_type": "markdown",
   "metadata": {},
   "source": [
    "### Querying across channels\n",
    "\n",
    "... or across channels."
   ]
  },
  {
   "cell_type": "code",
   "execution_count": 5,
   "metadata": {},
   "outputs": [
    {
     "data": {
      "text/html": [
       "<div>\n",
       "<style scoped>\n",
       "    .dataframe tbody tr th:only-of-type {\n",
       "        vertical-align: middle;\n",
       "    }\n",
       "\n",
       "    .dataframe tbody tr th {\n",
       "        vertical-align: top;\n",
       "    }\n",
       "\n",
       "    .dataframe thead th {\n",
       "        text-align: right;\n",
       "    }\n",
       "</style>\n",
       "<table border=\"1\" class=\"dataframe\">\n",
       "  <thead>\n",
       "    <tr style=\"text-align: right;\">\n",
       "      <th></th>\n",
       "      <th>ecephys_probe_id</th>\n",
       "      <th>local_index</th>\n",
       "      <th>probe_vertical_position</th>\n",
       "      <th>probe_horizontal_position</th>\n",
       "      <th>manual_structure_id</th>\n",
       "      <th>manual_structure_acronym</th>\n",
       "      <th>unit_count</th>\n",
       "    </tr>\n",
       "    <tr>\n",
       "      <th>id</th>\n",
       "      <th></th>\n",
       "      <th></th>\n",
       "      <th></th>\n",
       "      <th></th>\n",
       "      <th></th>\n",
       "      <th></th>\n",
       "      <th></th>\n",
       "    </tr>\n",
       "  </thead>\n",
       "  <tbody>\n",
       "    <tr>\n",
       "      <th>849704602</th>\n",
       "      <td>826590273</td>\n",
       "      <td>3</td>\n",
       "      <td>40.0</td>\n",
       "      <td>27.0</td>\n",
       "      <td>NaN</td>\n",
       "      <td>NaN</td>\n",
       "      <td>1</td>\n",
       "    </tr>\n",
       "    <tr>\n",
       "      <th>849704604</th>\n",
       "      <td>826590273</td>\n",
       "      <td>4</td>\n",
       "      <td>60.0</td>\n",
       "      <td>43.0</td>\n",
       "      <td>NaN</td>\n",
       "      <td>NaN</td>\n",
       "      <td>1</td>\n",
       "    </tr>\n",
       "    <tr>\n",
       "      <th>849704658</th>\n",
       "      <td>826590273</td>\n",
       "      <td>31</td>\n",
       "      <td>320.0</td>\n",
       "      <td>27.0</td>\n",
       "      <td>NaN</td>\n",
       "      <td>NaN</td>\n",
       "      <td>1</td>\n",
       "    </tr>\n",
       "    <tr>\n",
       "      <th>849704664</th>\n",
       "      <td>826590273</td>\n",
       "      <td>34</td>\n",
       "      <td>360.0</td>\n",
       "      <td>59.0</td>\n",
       "      <td>NaN</td>\n",
       "      <td>NaN</td>\n",
       "      <td>2</td>\n",
       "    </tr>\n",
       "    <tr>\n",
       "      <th>849704680</th>\n",
       "      <td>826590273</td>\n",
       "      <td>42</td>\n",
       "      <td>440.0</td>\n",
       "      <td>59.0</td>\n",
       "      <td>NaN</td>\n",
       "      <td>NaN</td>\n",
       "      <td>1</td>\n",
       "    </tr>\n",
       "  </tbody>\n",
       "</table>\n",
       "</div>"
      ],
      "text/plain": [
       "           ecephys_probe_id  local_index  probe_vertical_position  \\\n",
       "id                                                                  \n",
       "849704602         826590273            3                     40.0   \n",
       "849704604         826590273            4                     60.0   \n",
       "849704658         826590273           31                    320.0   \n",
       "849704664         826590273           34                    360.0   \n",
       "849704680         826590273           42                    440.0   \n",
       "\n",
       "           probe_horizontal_position  manual_structure_id  \\\n",
       "id                                                          \n",
       "849704602                       27.0                  NaN   \n",
       "849704604                       43.0                  NaN   \n",
       "849704658                       27.0                  NaN   \n",
       "849704664                       59.0                  NaN   \n",
       "849704680                       59.0                  NaN   \n",
       "\n",
       "          manual_structure_acronym  unit_count  \n",
       "id                                              \n",
       "849704602                      NaN           1  \n",
       "849704604                      NaN           1  \n",
       "849704658                      NaN           1  \n",
       "849704664                      NaN           2  \n",
       "849704680                      NaN           1  "
      ]
     },
     "execution_count": 5,
     "metadata": {},
     "output_type": "execute_result"
    }
   ],
   "source": [
    "cache.get_channels().head()"
   ]
  },
  {
   "cell_type": "markdown",
   "metadata": {},
   "source": [
    "### Querying across units\n",
    "\n",
    "... as well as for sorted units."
   ]
  },
  {
   "cell_type": "code",
   "execution_count": 6,
   "metadata": {},
   "outputs": [
    {
     "name": "stderr",
     "output_type": "stream",
     "text": [
      "/home/nile/Desktop/dodgy_units/allensdk/allensdk/brain_observatory/ecephys/ecephys_project_cache.py:83: DtypeWarning: Columns (18,19) have mixed types. Specify dtype option on import or set low_memory=False.\n",
      "  units = call_caching(self.fetch_api.get_units, path, strategy='lazy', **csv_io)\n"
     ]
    },
    {
     "data": {
      "text/html": [
       "<div>\n",
       "<style scoped>\n",
       "    .dataframe tbody tr th:only-of-type {\n",
       "        vertical-align: middle;\n",
       "    }\n",
       "\n",
       "    .dataframe tbody tr th {\n",
       "        vertical-align: top;\n",
       "    }\n",
       "\n",
       "    .dataframe thead th {\n",
       "        text-align: right;\n",
       "    }\n",
       "</style>\n",
       "<table border=\"1\" class=\"dataframe\">\n",
       "  <thead>\n",
       "    <tr style=\"text-align: right;\">\n",
       "      <th></th>\n",
       "      <th>local_index</th>\n",
       "      <th>cluster_ids</th>\n",
       "      <th>peak_channel_id</th>\n",
       "      <th>quality</th>\n",
       "      <th>snr</th>\n",
       "      <th>firing_rate</th>\n",
       "      <th>isi_violations</th>\n",
       "      <th>presence_ratio</th>\n",
       "      <th>amplitude_cutoff</th>\n",
       "      <th>isolation_distance</th>\n",
       "      <th>l_ratio</th>\n",
       "      <th>d_prime</th>\n",
       "      <th>nn_hit_rate</th>\n",
       "      <th>nn_miss_rate</th>\n",
       "      <th>silhouette_score</th>\n",
       "      <th>max_drift</th>\n",
       "      <th>cumulative_drift</th>\n",
       "      <th>epoch_name_quality_metrics</th>\n",
       "      <th>epoch_name_waveform_metrics</th>\n",
       "      <th>duration</th>\n",
       "      <th>halfwidth</th>\n",
       "      <th>PT_ratio</th>\n",
       "      <th>repolarization_slope</th>\n",
       "      <th>recovery_slope</th>\n",
       "      <th>amplitude</th>\n",
       "      <th>spread</th>\n",
       "      <th>velocity_above</th>\n",
       "      <th>velocity_below</th>\n",
       "    </tr>\n",
       "    <tr>\n",
       "      <th>id</th>\n",
       "      <th></th>\n",
       "      <th></th>\n",
       "      <th></th>\n",
       "      <th></th>\n",
       "      <th></th>\n",
       "      <th></th>\n",
       "      <th></th>\n",
       "      <th></th>\n",
       "      <th></th>\n",
       "      <th></th>\n",
       "      <th></th>\n",
       "      <th></th>\n",
       "      <th></th>\n",
       "      <th></th>\n",
       "      <th></th>\n",
       "      <th></th>\n",
       "      <th></th>\n",
       "      <th></th>\n",
       "      <th></th>\n",
       "      <th></th>\n",
       "      <th></th>\n",
       "      <th></th>\n",
       "      <th></th>\n",
       "      <th></th>\n",
       "      <th></th>\n",
       "      <th></th>\n",
       "      <th></th>\n",
       "      <th></th>\n",
       "    </tr>\n",
       "  </thead>\n",
       "  <tbody>\n",
       "    <tr>\n",
       "      <th>849705366</th>\n",
       "      <td>1</td>\n",
       "      <td>1</td>\n",
       "      <td>849704602</td>\n",
       "      <td>good</td>\n",
       "      <td>1.446133</td>\n",
       "      <td>3.782304</td>\n",
       "      <td>0.784492</td>\n",
       "      <td>NaN</td>\n",
       "      <td>NaN</td>\n",
       "      <td>NaN</td>\n",
       "      <td>NaN</td>\n",
       "      <td>NaN</td>\n",
       "      <td>NaN</td>\n",
       "      <td>NaN</td>\n",
       "      <td>NaN</td>\n",
       "      <td>NaN</td>\n",
       "      <td>NaN</td>\n",
       "      <td>NaN</td>\n",
       "      <td>NaN</td>\n",
       "      <td>NaN</td>\n",
       "      <td>NaN</td>\n",
       "      <td>NaN</td>\n",
       "      <td>NaN</td>\n",
       "      <td>NaN</td>\n",
       "      <td>NaN</td>\n",
       "      <td>NaN</td>\n",
       "      <td>NaN</td>\n",
       "      <td>NaN</td>\n",
       "    </tr>\n",
       "    <tr>\n",
       "      <th>849705368</th>\n",
       "      <td>2</td>\n",
       "      <td>2</td>\n",
       "      <td>849704604</td>\n",
       "      <td>good</td>\n",
       "      <td>0.853575</td>\n",
       "      <td>5.839871</td>\n",
       "      <td>0.695103</td>\n",
       "      <td>NaN</td>\n",
       "      <td>NaN</td>\n",
       "      <td>NaN</td>\n",
       "      <td>NaN</td>\n",
       "      <td>NaN</td>\n",
       "      <td>NaN</td>\n",
       "      <td>NaN</td>\n",
       "      <td>NaN</td>\n",
       "      <td>NaN</td>\n",
       "      <td>NaN</td>\n",
       "      <td>NaN</td>\n",
       "      <td>NaN</td>\n",
       "      <td>NaN</td>\n",
       "      <td>NaN</td>\n",
       "      <td>NaN</td>\n",
       "      <td>NaN</td>\n",
       "      <td>NaN</td>\n",
       "      <td>NaN</td>\n",
       "      <td>NaN</td>\n",
       "      <td>NaN</td>\n",
       "      <td>NaN</td>\n",
       "    </tr>\n",
       "    <tr>\n",
       "      <th>849705374</th>\n",
       "      <td>5</td>\n",
       "      <td>5</td>\n",
       "      <td>849704658</td>\n",
       "      <td>good</td>\n",
       "      <td>0.422309</td>\n",
       "      <td>0.654314</td>\n",
       "      <td>3.174978</td>\n",
       "      <td>NaN</td>\n",
       "      <td>NaN</td>\n",
       "      <td>NaN</td>\n",
       "      <td>NaN</td>\n",
       "      <td>NaN</td>\n",
       "      <td>NaN</td>\n",
       "      <td>NaN</td>\n",
       "      <td>NaN</td>\n",
       "      <td>NaN</td>\n",
       "      <td>NaN</td>\n",
       "      <td>NaN</td>\n",
       "      <td>NaN</td>\n",
       "      <td>NaN</td>\n",
       "      <td>NaN</td>\n",
       "      <td>NaN</td>\n",
       "      <td>NaN</td>\n",
       "      <td>NaN</td>\n",
       "      <td>NaN</td>\n",
       "      <td>NaN</td>\n",
       "      <td>NaN</td>\n",
       "      <td>NaN</td>\n",
       "    </tr>\n",
       "    <tr>\n",
       "      <th>849705376</th>\n",
       "      <td>6</td>\n",
       "      <td>6</td>\n",
       "      <td>849704664</td>\n",
       "      <td>good</td>\n",
       "      <td>0.390312</td>\n",
       "      <td>0.515412</td>\n",
       "      <td>13.825116</td>\n",
       "      <td>NaN</td>\n",
       "      <td>NaN</td>\n",
       "      <td>NaN</td>\n",
       "      <td>NaN</td>\n",
       "      <td>NaN</td>\n",
       "      <td>NaN</td>\n",
       "      <td>NaN</td>\n",
       "      <td>NaN</td>\n",
       "      <td>NaN</td>\n",
       "      <td>NaN</td>\n",
       "      <td>NaN</td>\n",
       "      <td>NaN</td>\n",
       "      <td>NaN</td>\n",
       "      <td>NaN</td>\n",
       "      <td>NaN</td>\n",
       "      <td>NaN</td>\n",
       "      <td>NaN</td>\n",
       "      <td>NaN</td>\n",
       "      <td>NaN</td>\n",
       "      <td>NaN</td>\n",
       "      <td>NaN</td>\n",
       "    </tr>\n",
       "    <tr>\n",
       "      <th>849705378</th>\n",
       "      <td>7</td>\n",
       "      <td>7</td>\n",
       "      <td>849704664</td>\n",
       "      <td>good</td>\n",
       "      <td>0.351083</td>\n",
       "      <td>0.356185</td>\n",
       "      <td>13.381187</td>\n",
       "      <td>NaN</td>\n",
       "      <td>NaN</td>\n",
       "      <td>NaN</td>\n",
       "      <td>NaN</td>\n",
       "      <td>NaN</td>\n",
       "      <td>NaN</td>\n",
       "      <td>NaN</td>\n",
       "      <td>NaN</td>\n",
       "      <td>NaN</td>\n",
       "      <td>NaN</td>\n",
       "      <td>NaN</td>\n",
       "      <td>NaN</td>\n",
       "      <td>NaN</td>\n",
       "      <td>NaN</td>\n",
       "      <td>NaN</td>\n",
       "      <td>NaN</td>\n",
       "      <td>NaN</td>\n",
       "      <td>NaN</td>\n",
       "      <td>NaN</td>\n",
       "      <td>NaN</td>\n",
       "      <td>NaN</td>\n",
       "    </tr>\n",
       "  </tbody>\n",
       "</table>\n",
       "</div>"
      ],
      "text/plain": [
       "           local_index  cluster_ids  peak_channel_id quality       snr  \\\n",
       "id                                                                       \n",
       "849705366            1            1        849704602    good  1.446133   \n",
       "849705368            2            2        849704604    good  0.853575   \n",
       "849705374            5            5        849704658    good  0.422309   \n",
       "849705376            6            6        849704664    good  0.390312   \n",
       "849705378            7            7        849704664    good  0.351083   \n",
       "\n",
       "           firing_rate  isi_violations  presence_ratio  amplitude_cutoff  \\\n",
       "id                                                                         \n",
       "849705366     3.782304        0.784492             NaN               NaN   \n",
       "849705368     5.839871        0.695103             NaN               NaN   \n",
       "849705374     0.654314        3.174978             NaN               NaN   \n",
       "849705376     0.515412       13.825116             NaN               NaN   \n",
       "849705378     0.356185       13.381187             NaN               NaN   \n",
       "\n",
       "           isolation_distance  l_ratio  d_prime  nn_hit_rate  nn_miss_rate  \\\n",
       "id                                                                           \n",
       "849705366                 NaN      NaN      NaN          NaN           NaN   \n",
       "849705368                 NaN      NaN      NaN          NaN           NaN   \n",
       "849705374                 NaN      NaN      NaN          NaN           NaN   \n",
       "849705376                 NaN      NaN      NaN          NaN           NaN   \n",
       "849705378                 NaN      NaN      NaN          NaN           NaN   \n",
       "\n",
       "           silhouette_score  max_drift  cumulative_drift  \\\n",
       "id                                                         \n",
       "849705366               NaN        NaN               NaN   \n",
       "849705368               NaN        NaN               NaN   \n",
       "849705374               NaN        NaN               NaN   \n",
       "849705376               NaN        NaN               NaN   \n",
       "849705378               NaN        NaN               NaN   \n",
       "\n",
       "          epoch_name_quality_metrics epoch_name_waveform_metrics  duration  \\\n",
       "id                                                                           \n",
       "849705366                        NaN                         NaN       NaN   \n",
       "849705368                        NaN                         NaN       NaN   \n",
       "849705374                        NaN                         NaN       NaN   \n",
       "849705376                        NaN                         NaN       NaN   \n",
       "849705378                        NaN                         NaN       NaN   \n",
       "\n",
       "           halfwidth  PT_ratio  repolarization_slope  recovery_slope  \\\n",
       "id                                                                     \n",
       "849705366        NaN       NaN                   NaN             NaN   \n",
       "849705368        NaN       NaN                   NaN             NaN   \n",
       "849705374        NaN       NaN                   NaN             NaN   \n",
       "849705376        NaN       NaN                   NaN             NaN   \n",
       "849705378        NaN       NaN                   NaN             NaN   \n",
       "\n",
       "           amplitude  spread  velocity_above  velocity_below  \n",
       "id                                                            \n",
       "849705366        NaN     NaN             NaN             NaN  \n",
       "849705368        NaN     NaN             NaN             NaN  \n",
       "849705374        NaN     NaN             NaN             NaN  \n",
       "849705376        NaN     NaN             NaN             NaN  \n",
       "849705378        NaN     NaN             NaN             NaN  "
      ]
     },
     "execution_count": 6,
     "metadata": {},
     "output_type": "execute_result"
    }
   ],
   "source": [
    "units = cache.get_units()\n",
    "units.head()"
   ]
  },
  {
   "cell_type": "code",
   "execution_count": 7,
   "metadata": {},
   "outputs": [
    {
     "name": "stdout",
     "output_type": "stream",
     "text": [
      "124299\n"
     ]
    }
   ],
   "source": [
    "# There are quite a few of these\n",
    "print(units.shape[0])"
   ]
  },
  {
   "cell_type": "markdown",
   "metadata": {},
   "source": [
    "### Surveying metadata\n",
    "\n",
    "You can answer questions like: \"what mouse genotypes were used in this dataset?\" using your `EcephysProjectCache`."
   ]
  },
  {
   "cell_type": "code",
   "execution_count": 8,
   "metadata": {},
   "outputs": [
    {
     "name": "stdout",
     "output_type": "stream",
     "text": [
      "stimulus sets: ['brain_observatory_1.1', 'functional_connectivity']\n",
      "genotypes: ['Sst-IRES-Cre/wt;Ai32(RCL-ChR2(H134R)_EYFP)/wt', 'Pvalb-IRES-Cre/wt;Ai32(RCL-ChR2(H134R)_EYFP)/wt', nan, 'Vip-IRES-Cre/wt;Ai32(RCL-ChR2(H134R)_EYFP)/wt', 'Cux2-CreERT2/wt;Camk2a-tTA/wt;Ai93(TITL-GCaMP6f)/wt']\n",
      "structures: [nan, 'TH', 'DG', 'CA', 'VISrl', 'VIS', 'VISp', 'MB', 'VISpm', 'VISam', 'VISal', 'VISl', 'VISmma', 'VISmmp', 'VISli']\n"
     ]
    }
   ],
   "source": [
    "print(f\"stimulus sets: {cache.get_all_stimulus_sets()}\")\n",
    "print(f\"genotypes: {cache.get_all_genotypes()}\")\n",
    "print(f\"structures: {cache.get_all_recorded_structures()}\")"
   ]
  },
  {
   "cell_type": "markdown",
   "metadata": {},
   "source": [
    "In order to look up a brain structure acronym, you can use our [online atlas viewer](http://atlas.brain-map.org/atlas?atlas=602630314). The AllenSDK additionally supports programmatic access to structure annotations. For more information, see the [reference space](https://allensdk.readthedocs.io/en/latest/reference_space.html) and [mouse connectivity](https://allensdk.readthedocs.io/en/latest/connectivity.html) documentation."
   ]
  },
  {
   "cell_type": "markdown",
   "metadata": {},
   "source": [
    "### Obtaining an `EcephysSession`\n",
    "\n",
    "We package each session's data into a Neurodata Without Borders 2.0 (NWB) file. Calling `get_session_data` on your `EcephysProjectCache` will download such a file and return an `EcephysSession` object.\n",
    "\n",
    "`EcephysSession` objects contain methods and properties that access the data within an ecephys NWB file and cache it in memory."
   ]
  },
  {
   "cell_type": "code",
   "execution_count": null,
   "metadata": {},
   "outputs": [
    {
     "name": "stderr",
     "output_type": "stream",
     "text": [
      "WARNING:root:downloading a potentially large file from http://10.128.50.64:3000/well_known_files/download/914707759?wkf_id=914707759\n"
     ]
    }
   ],
   "source": [
    "session_id = 773418906 # for example\n",
    "session = cache.get_session_data(session_id)"
   ]
  },
  {
   "cell_type": "markdown",
   "metadata": {},
   "source": [
    "This session object has some important metadata, such as the date and time at which the recording session started:"
   ]
  },
  {
   "cell_type": "code",
   "execution_count": null,
   "metadata": {},
   "outputs": [],
   "source": [
    "print(f\"session {session.ecephys_session_id} was acquired in {session.session_start_time}\")"
   ]
  },
  {
   "cell_type": "markdown",
   "metadata": {},
   "source": [
    "We'll now jump in to accessing our session's data. If you ever want a complete documented list of the attributes and methods defined on `EcephysSession`, you can run `help(EcephysSession)` (or in a jupyter notebook: `EcephysSession?`)."
   ]
  },
  {
   "cell_type": "markdown",
   "metadata": {},
   "source": [
    "### Sorted units\n",
    "\n",
    "Units are putative neurons, clustered from raw voltage traces using Kilosort 2. Each unit is associated with a single *peak channel* on a single probe, though its spikes might be picked up with some attenuation on multiple nearby channels. Each unit is assigned a unique integer identifier (\"unit_id\") which can be used to look up its  spike times and its mean waveform.\n",
    "\n",
    "The units for a session are recorded in an attribute called, fittingly, `units`. This is a `pandas.DataFrame` whose index is the unit id and whose columns contain summary information about the unit, its peak channel, and its associated probe."
   ]
  },
  {
   "cell_type": "code",
   "execution_count": null,
   "metadata": {
    "scrolled": false
   },
   "outputs": [],
   "source": [
    "session.units.head()"
   ]
  },
  {
   "cell_type": "markdown",
   "metadata": {},
   "source": [
    "As a `pandas.DataFrame` the units table supports many straightforward filtering operations:"
   ]
  },
  {
   "cell_type": "code",
   "execution_count": null,
   "metadata": {},
   "outputs": [],
   "source": [
    "# how many units have signal to noise ratios that are greater than 4?\n",
    "print(f'{session.units.shape[0]} units total')\n",
    "units_with_very_high_snr = session.units[session.units['snr'] > 4]\n",
    "print(f'{units_with_very_high_snr.shape[0]} units have snr > 4')"
   ]
  },
  {
   "cell_type": "markdown",
   "metadata": {},
   "source": [
    "... as well as some more advanced (and very useful!) operations. For more information, please see the pandas documentation. The following topics might be particularly handy:\n",
    "\n",
    "- [selecting data](http://pandas.pydata.org/pandas-docs/stable/user_guide/indexing.html)\n",
    "- [merging multiple dataframes](http://pandas.pydata.org/pandas-docs/stable/user_guide/merging.html)\n",
    "- [grouping rows within a dataframe](http://pandas.pydata.org/pandas-docs/stable/user_guide/groupby.html)\n",
    "- [pivot tables](http://pandas.pydata.org/pandas-docs/stable/user_guide/reshaping.html)"
   ]
  },
  {
   "cell_type": "markdown",
   "metadata": {},
   "source": [
    "### Stimulus presentations\n",
    "\n",
    "During the course of a session, visual stimuli are presented on a monitor to the subject. We call intervals of time where a specific stimulus is presented (and its parameters held constant!) a *stimulus presentation*.\n",
    "\n",
    "You can find information about the stimulus presentations that were displayed during a session by accessing the `stimulus_presentations` attribute on your `EcephysSession` object. "
   ]
  },
  {
   "cell_type": "code",
   "execution_count": null,
   "metadata": {},
   "outputs": [],
   "source": [
    "session.stimulus_presentations.head()"
   ]
  },
  {
   "cell_type": "markdown",
   "metadata": {},
   "source": [
    "Like the units table, this is a `pandas.DataFrame`. Each row corresponds to a stimulus presentation and lists the time (on the session's master clock, in seconds) when that presentation began and ended as well as the kind of stimulus that was presented (the \"stimulus_name\" column) and the parameter values that were used for that presentation. Many of these parameter values don't overlap between stimulus classes, so the stimulus_presentations table uses the string `\"null\"` to indicate an inapplicable parameter. The index is named \"stimulus_presentation_id\" and many methods on `EcephysSession` use these ids.\n",
    "\n",
    "Some of the columns bear a bit of explanation:\n",
    "- stimulus_block : A block consists of multiple presentations of the same stimulus class presented with (probably) different parameter values. If during a session stimuli were presented in the following order:\n",
    "    - drifting gratings\n",
    "    - static gratings\n",
    "    - drifting gratings\n",
    "    then the blocks for that session would be [0, 1, 2]. The gray period stimulus (just a blank gray screen) never gets a block.\n",
    "- duration : this is just stop_time - start_time, precalculated for convenience.\n",
    "\n",
    "What kinds of stimuli were presented during this session? Pandas makes it easy to find out:"
   ]
  },
  {
   "cell_type": "code",
   "execution_count": null,
   "metadata": {},
   "outputs": [],
   "source": [
    "session.stimulus_names # just the unique values from the 'stimulus_name' column"
   ]
  },
  {
   "cell_type": "markdown",
   "metadata": {},
   "source": [
    "We can also obtain the `stimulus epochs` - blocks of time for which a particular kind of stimulus was presented - for this session."
   ]
  },
  {
   "cell_type": "code",
   "execution_count": null,
   "metadata": {},
   "outputs": [],
   "source": [
    "session.get_stimulus_epochs()"
   ]
  },
  {
   "cell_type": "markdown",
   "metadata": {},
   "source": [
    "If you are only interested in a subset of stimuli, you can either filter using pandas or using the `get_presentations_for_stimulus` convience method:"
   ]
  },
  {
   "cell_type": "code",
   "execution_count": null,
   "metadata": {},
   "outputs": [],
   "source": [
    "session.get_presentations_for_stimulus(['contrast_response']).head()"
   ]
  },
  {
   "cell_type": "markdown",
   "metadata": {},
   "source": [
    "We might also want to know what the total set of available parameters is. The `get_stimulus_parameter_values` method provides a dictionary mapping stimulus parameters to the set of values that were applied to those parameters:"
   ]
  },
  {
   "cell_type": "code",
   "execution_count": null,
   "metadata": {
    "scrolled": false
   },
   "outputs": [],
   "source": [
    "for key, values in session.get_stimulus_parameter_values().items():\n",
    "    print(f'{key}: {values}')"
   ]
  },
  {
   "cell_type": "markdown",
   "metadata": {},
   "source": [
    "Each distinct state of the monitor is called a \"stimulus condition\". Each presentation in the stimulus presentations table exemplifies such a condition. This is encoded in its stimulus_condition_id field.\n",
    "\n",
    "To get the full list of conditions presented in a session, use the stimulus_conditions attribute:"
   ]
  },
  {
   "cell_type": "code",
   "execution_count": null,
   "metadata": {},
   "outputs": [],
   "source": [
    "session.stimulus_conditions.head()"
   ]
  },
  {
   "cell_type": "markdown",
   "metadata": {},
   "source": [
    "### Spike data\n",
    "\n",
    "The `EcephysSession` object holds spike times (in seconds on the session master clock) for each unit. These are stored in a dictionary, which maps unit ids (the index values of the units table) to arrays of spike times."
   ]
  },
  {
   "cell_type": "code",
   "execution_count": null,
   "metadata": {
    "scrolled": true
   },
   "outputs": [],
   "source": [
    " # grab an arbitrary (though high-snr!) unit (we made units_with_high_snr above)\n",
    "high_snr_unit_ids = units_with_very_high_snr.index.values\n",
    "unit_id = high_snr_unit_ids[0]\n",
    "\n",
    "print(f\"{len(session.spike_times[unit_id])} spikes were detected for unit {unit_id} at times:\")\n",
    "session.spike_times[unit_id]"
   ]
  },
  {
   "cell_type": "markdown",
   "metadata": {},
   "source": [
    "You can also obtain spikes tagged with the stimulus presentation during which they occurred:"
   ]
  },
  {
   "cell_type": "code",
   "execution_count": null,
   "metadata": {},
   "outputs": [],
   "source": [
    "# get spike times from the first block of drifting gratings presentations \n",
    "drifting_gratings_presentation_ids = session.stimulus_presentations.loc[\n",
    "    (session.stimulus_presentations['stimulus_name'] == 'drifting_gratings')\n",
    "].index.values\n",
    "\n",
    "times = session.presentationwise_spike_times(\n",
    "    stimulus_presentation_ids=drifting_gratings_presentation_ids,\n",
    "    unit_ids=high_snr_unit_ids\n",
    ")\n",
    "\n",
    "times.head()"
   ]
  },
  {
   "cell_type": "markdown",
   "metadata": {},
   "source": [
    "We can make raster plots of these data:"
   ]
  },
  {
   "cell_type": "code",
   "execution_count": null,
   "metadata": {
    "scrolled": false
   },
   "outputs": [],
   "source": [
    "first_drifting_grating_presentation_id = times['stimulus_presentation_id'].values[0]\n",
    "plot_times = times[times['stimulus_presentation_id'] == first_drifting_grating_presentation_id]\n",
    "\n",
    "fig = raster_plot(plot_times, title=f'spike raster for stimulus presentation {first_drifting_grating_presentation_id}')\n",
    "plt.show()\n",
    "\n",
    "# also print out this presentation\n",
    "session.stimulus_presentations.loc[first_drifting_grating_presentation_id]"
   ]
  },
  {
   "cell_type": "markdown",
   "metadata": {},
   "source": [
    "We can access summary spike statistics for stimulus conditions and unit"
   ]
  },
  {
   "cell_type": "code",
   "execution_count": null,
   "metadata": {},
   "outputs": [],
   "source": [
    "stats = session.conditionwise_spike_statistics(\n",
    "    stimulus_presentation_ids=drifting_gratings_presentation_ids,\n",
    "    unit_ids=high_snr_unit_ids\n",
    ")\n",
    "\n",
    "# display the parameters associated with each condition\n",
    "stats = pd.merge(stats, session.stimulus_conditions, left_on=\"stimulus_condition_id\", right_index=True)\n",
    "\n",
    "stats.head()"
   ]
  },
  {
   "cell_type": "markdown",
   "metadata": {},
   "source": [
    "Using these data, we can ask for each unit: which stimulus condition evoked the most activity on average?"
   ]
  },
  {
   "cell_type": "code",
   "execution_count": null,
   "metadata": {},
   "outputs": [],
   "source": [
    "with_repeats = stats[stats[\"stimulus_presentation_count\"] >= 5]\n",
    "\n",
    "highest_mean_rate = lambda df: df.loc[df['spike_mean'].idxmax()]\n",
    "max_rate_conditions = with_repeats.groupby('unit_id').apply(highest_mean_rate)\n",
    "max_rate_conditions.head()"
   ]
  },
  {
   "cell_type": "markdown",
   "metadata": {},
   "source": [
    "### Spike histograms\n",
    "\n",
    "It is commonly useful to compare spike data from across units and stimulus presentations, all relative to the onset of a stimulus presentation. We can do this using the `presentationwise_spike_counts` method. "
   ]
  },
  {
   "cell_type": "code",
   "execution_count": null,
   "metadata": {},
   "outputs": [],
   "source": [
    "# We're going to build an array of spike counts surrounding stimulus presentation onset\n",
    "# To do that, we will need to specify some bins (in seconds, relative to stimulus onset)\n",
    "time_bin_edges = np.linspace(-0.01, 0.4, 200)\n",
    "\n",
    "# look at responses to the flash stimulus\n",
    "flash_250_ms_stimulus_presentation_ids = session.stimulus_presentations[\n",
    "    session.stimulus_presentations['stimulus_name'] == 'flash_250ms'\n",
    "].index.values\n",
    "\n",
    "# and get a set of units with only decent snr\n",
    "decent_snr_unit_ids = session.units[\n",
    "    session.units['snr'] >= 1.5\n",
    "].index.values\n",
    "\n",
    "spike_counts_da = session.presentationwise_spike_counts(\n",
    "    bin_edges=time_bin_edges,\n",
    "    stimulus_presentation_ids=flash_250_ms_stimulus_presentation_ids,\n",
    "    unit_ids=decent_snr_unit_ids\n",
    ")\n",
    "spike_counts_da"
   ]
  },
  {
   "cell_type": "markdown",
   "metadata": {},
   "source": [
    "This has returned a new (to this notebook) data structure, the `xarray.DataArray`. You can think of this as similar to a 3+D `pandas.DataFrame`, or as a `numpy.ndarray` with labeled axes and indices. See the [xarray documentation](http://xarray.pydata.org/en/stable/index.html) for more information. In the mean time, the salient features are:\n",
    "\n",
    "- Dimensions : Each axis on each data variable is associated with a named dimension. This lets us see unambiguously what the axes of our array mean.\n",
    "- Coordinates : Arrays of labels for each sample on each dimension.\n",
    "\n",
    "xarray is nice because it forces code to be explicit about dimensions and coordinates, improving readability and avoiding bugs. However, you can always convert to numpy or pandas data structures as follows:\n",
    "- to pandas: `spike_counts_ds.to_dataframe()` produces a multiindexed dataframe\n",
    "- to numpy: `spike_counts_ds.values` gives you access to the underlying numpy array\n",
    "\n",
    "We can now plot spike counts for a particular presentation:"
   ]
  },
  {
   "cell_type": "code",
   "execution_count": null,
   "metadata": {},
   "outputs": [],
   "source": [
    "presentation_id = 3796 # chosen arbitrarily\n",
    "plot_spike_counts(\n",
    "    spike_counts_da.loc[{'stimulus_presentation_id': presentation_id}], \n",
    "    spike_counts_da['time_relative_to_stimulus_onset'],\n",
    "    'spike count', \n",
    "    f'unitwise spike counts on presentation {presentation_id}'\n",
    ")\n",
    "plt.show()"
   ]
  },
  {
   "cell_type": "markdown",
   "metadata": {},
   "source": [
    "We can also average across all presentations, adding a new data array to the dataset. Notice that this one no longer has a stimulus_presentation_id dimension, as we have collapsed it by averaging."
   ]
  },
  {
   "cell_type": "code",
   "execution_count": null,
   "metadata": {},
   "outputs": [],
   "source": [
    "mean_spike_counts = spike_counts_da.mean(dim='stimulus_presentation_id')\n",
    "mean_spike_counts"
   ]
  },
  {
   "cell_type": "markdown",
   "metadata": {},
   "source": [
    "... and plot the mean spike counts"
   ]
  },
  {
   "cell_type": "code",
   "execution_count": null,
   "metadata": {
    "scrolled": false
   },
   "outputs": [],
   "source": [
    "plot_spike_counts(\n",
    "    mean_spike_counts, \n",
    "    mean_spike_counts['time_relative_to_stimulus_onset'],\n",
    "    'mean spike count', \n",
    "    'mean spike counts on flash_250_ms presentations'\n",
    ")\n",
    "plt.show()"
   ]
  },
  {
   "cell_type": "markdown",
   "metadata": {},
   "source": [
    "### Waveforms\n",
    "\n",
    "We store precomputed mean waveforms for each unit in the `mean_waveforms` attribute on the `EcephysSession` object. This is a dictionary which maps unit ids to xarray dataarrays. These have `channel` and `time` (seconds, aligned to the detected event times) dimensions. The data values are millivolts, as measured at the recording site.\n",
    "We store precomputed mean waveforms for each unit in the `mean_waveforms` attribute on the `EcephysSession` object. This is a dictionary which maps unit ids to xarray dataarrays. These have channel and time (seconds, aligned to the detected event times) dimensions. The data values are millivolts, as measured at the recording site.\n"
   ]
  },
  {
   "cell_type": "code",
   "execution_count": null,
   "metadata": {},
   "outputs": [],
   "source": [
    "units_of_interest = high_snr_unit_ids[:35]\n",
    "\n",
    "waveforms = {uid: session.mean_waveforms[uid] for uid in units_of_interest}\n",
    "peak_channels = {uid: session.units.loc[uid, 'peak_channel_id'] for uid in units_of_interest}\n",
    "\n",
    "# plot the mean waveform on each unit's peak channel/\n",
    "plot_mean_waveforms(waveforms, units_of_interest, peak_channels)\n",
    "plt.show()"
   ]
  },
  {
   "cell_type": "markdown",
   "metadata": {},
   "source": [
    "Since neuropixels probes are densely populated with channels, spikes are typically detected on several channels. We can see this by plotting mean waveforms on channels surrounding a unit's peak channel:"
   ]
  },
  {
   "cell_type": "code",
   "execution_count": null,
   "metadata": {},
   "outputs": [],
   "source": [
    "uid = units_of_interest[15]\n",
    "unit_waveforms = waveforms[uid]\n",
    "peak_channel = peak_channels[uid]\n",
    "peak_channel_idx = np.where(unit_waveforms[\"channel_id\"] == peak_channel)[0][0]\n",
    "\n",
    "ch_min = max(peak_channel_idx - 10, 0)\n",
    "ch_max = min(peak_channel_idx + 10, len(unit_waveforms[\"channel_id\"]) - 1)\n",
    "surrounding_channels = unit_waveforms[\"channel_id\"][np.arange(ch_min, ch_max, 2)]\n",
    "\n",
    "fig, ax = plt.subplots()\n",
    "ax.imshow(unit_waveforms.loc[{\"channel_id\": surrounding_channels}])\n",
    "\n",
    "ax.yaxis.set_major_locator(plt.NullLocator())\n",
    "ax.set_ylabel(\"channel\", fontsize=16)\n",
    "\n",
    "ax.set_xticks(np.arange(0, len(unit_waveforms['time']), 20))\n",
    "ax.set_xticklabels([f'{float(ii):1.4f}' for ii in unit_waveforms['time'][::20]], rotation=45)\n",
    "ax.set_xlabel(\"time (s)\", fontsize=16)\n",
    "\n",
    "plt.show()"
   ]
  },
  {
   "cell_type": "markdown",
   "metadata": {},
   "source": [
    "### Running Speed\n",
    "\n",
    "We can obtain the velocity at which the experimental subject ran as a function of time by accessing the `running_speed` attribute. This returns a pandas dataframe whose rows are intervals of time (defined by \"start_time\" and \"end_time\" columns), and whose \"velocity\" column contains mean running speeds within those intervals.\n",
    "\n",
    "Here we'll plot the running speed trace for an arbitrary chunk of time."
   ]
  },
  {
   "cell_type": "code",
   "execution_count": null,
   "metadata": {},
   "outputs": [],
   "source": [
    "running_speed_midpoints = session.running_speed[\"start_time\"] + \\\n",
    "    (session.running_speed[\"end_time\"] - session.running_speed[\"start_time\"]) / 2\n",
    "plot_running_speed(\n",
    "    running_speed_midpoints, \n",
    "    session.running_speed[\"velocity\"], \n",
    "    start_index=5000,\n",
    "    stop_index=5100\n",
    ")\n",
    "plt.show()"
   ]
  },
  {
   "cell_type": "markdown",
   "metadata": {},
   "source": [
    "# Local Field Potential\n",
    "\n",
    "We record local field potential on a subset of channels at 2500 Hz. Even subsampled and compressed, these data are quite large, so we store them seperately for each probe."
   ]
  },
  {
   "cell_type": "code",
   "execution_count": null,
   "metadata": {},
   "outputs": [],
   "source": [
    "# list the probes recorded from in this session\n",
    "session.probes.head()"
   ]
  },
  {
   "cell_type": "code",
   "execution_count": null,
   "metadata": {},
   "outputs": [],
   "source": [
    "# load up the lfp from one of the probes. This returns an xarray dataarray\n",
    "\n",
    "probe_id = session.probes.index.values[0]\n",
    "\n",
    "lfp = session.get_lfp(probe_id)\n",
    "print(lfp)"
   ]
  },
  {
   "cell_type": "markdown",
   "metadata": {},
   "source": [
    "We can figure out where each LFP channel is located in the Brain"
   ]
  },
  {
   "cell_type": "code",
   "execution_count": null,
   "metadata": {},
   "outputs": [],
   "source": [
    "channels = session.channels[session.channels[\"probe_id\"]== probe_id]\n",
    "channels = channels.loc[lfp[\"channel\"], :]\n",
    "\n",
    "# now use a utility to associate intervals of /rows with structures\n",
    "structure_acronyms, intervals = intervals_structures(channels)\n",
    "interval_midpoints = [aa + (bb - aa) / 2 for aa, bb in zip(intervals[:-1], intervals[1:])]\n",
    "print(structure_acronyms)\n",
    "print(intervals)"
   ]
  },
  {
   "cell_type": "code",
   "execution_count": null,
   "metadata": {},
   "outputs": [],
   "source": [
    "window = np.where(np.logical_and(lfp[\"time\"] < 5.0, lfp[\"time\"] >= 4.0))[0]\n",
    "\n",
    "fig, ax = plt.subplots()\n",
    "ax.pcolormesh(lfp[{\"time\": window}].T)\n",
    "\n",
    "ax.set_yticks(intervals)\n",
    "ax.set_yticks(interval_midpoints, minor=True)\n",
    "ax.set_yticklabels(structure_acronyms, minor=True)\n",
    "plt.tick_params(\"y\", which=\"major\", labelleft=False, length=40)\n",
    "\n",
    "num_time_labels = 8\n",
    "time_label_indices = np.around(np.linspace(1, len(window), num_time_labels)).astype(int) - 1\n",
    "time_labels = [ f\"{val:1.3}\" for val in lfp[\"time\"].values[window][time_label_indices]]\n",
    "ax.set_xticks(time_label_indices + 0.5)\n",
    "ax.set_xticklabels(time_labels)\n",
    "ax.set_xlabel(\"time (s)\", fontsize=20)\n",
    "\n",
    "plt.show()"
   ]
  },
  {
   "cell_type": "markdown",
   "metadata": {},
   "source": [
    "# Current source density\n",
    "\n",
    "We precompute current source density for each probe."
   ]
  },
  {
   "cell_type": "code",
   "execution_count": null,
   "metadata": {
    "local_metadata": {
     "scrolled": false
    },
    "remote_metadata": {}
   },
   "outputs": [],
   "source": [
    "csd = session.get_current_source_density(probe_id)\n",
    "csd"
   ]
  },
  {
   "cell_type": "markdown",
   "metadata": {},
   "source": [
    "### Suggested excercises\n",
    "\n",
    "If you would hands-on experience with the `EcephysSession` class, please consider working through some of these excercises.\n",
    "\n",
    "- **tuning curves** : Pick a stimulus parameter, such as orientation on drifting gratings trials. Plot the mean and standard error of spike counts for each unit at each value of this parameter.\n",
    "- **signal correlations** : Calculate unit-pairwise correlation coefficients on the tuning curves for a stimulus parameter of interest (`numpy.corrcoef` might be useful).\n",
    "- **noise correlations** : Build for each unit a vector of spike counts across repeats of the same stimulus condition. Compute unit-unit correlation coefficients on these vectors.\n",
    "- **cross-correlations** : Start with two spike trains. Call one of them \"fixed\" and the other \"moving\". Choose a set of time offsets and for each offset:\n",
    "    1. apply the offset to the spike times in the moving train\n",
    "    2. compute the correlation coefficient between the newly offset moving train and the fixed train.\n",
    "    You should then be able to plot the obtained correlation coeffients as a function of the offset. \n",
    "- **unit clustering** : First, extract a set of unitwise features. You might draw these from the mean waveforms, for instance:\n",
    "    - mean duration between waveform peak and trough (on the unit's peak channel)\n",
    "    - the amplitude of the unit's trough\n",
    "    \n",
    "    or you might draw them from the unit's spike times, such as:\n",
    "    - median inter-spike-interval\n",
    "    \n",
    "    or from metadata\n",
    "    - CCF structure\n",
    "    \n",
    "    With your features in hand, attempt an unsupervised classification of the units. If this seems daunting, check out the [scikit-learn unsupervised learning documention](https://scikit-learn.org/stable/modules/clustering.html#clustering) for library code and examples.\n",
    "- **population decoding** : Using an `EcephysSession` (and filtering to some stimuli and units of interest), build two aligned matrices:\n",
    "    1. A matrix whose rows are stimulus presentations, columns are units, and values are spike counts.\n",
    "    2. A matrix whose rows are stimulus presentations and whose columns are stimulus parameters.\n",
    "    \n",
    "    Using these matrices, train a classifier to predict stimulus conditions (sets of stimulus parameter values) from presentationwise population spike counts. See the [scikit-learn supervised learning tutorial](https://scikit-learn.org/stable/tutorial/statistical_inference/supervised_learning.html) for a guide to supervised learning in Python."
   ]
  },
  {
   "cell_type": "code",
   "execution_count": null,
   "metadata": {},
   "outputs": [],
   "source": []
  }
 ],
 "metadata": {
  "kernelspec": {
   "display_name": "py37",
   "language": "python",
   "name": "py37"
  },
  "language_info": {
   "codemirror_mode": {
    "name": "ipython",
    "version": 3
   },
   "file_extension": ".py",
   "mimetype": "text/x-python",
   "name": "python",
   "nbconvert_exporter": "python",
   "pygments_lexer": "ipython3",
   "version": "3.7.3"
  },
  "nbdime-conflicts": {
   "local_diff": [
    {
     "key": "kernelspec",
     "op": "add",
     "value": {
      "display_name": "allensdk",
      "language": "python",
      "name": "allensdk"
     }
    },
    {
     "key": "language_info",
     "op": "add",
     "value": {
      "codemirror_mode": {
       "name": "ipython",
       "version": 3
      },
      "file_extension": ".py",
      "mimetype": "text/x-python",
      "name": "python",
      "nbconvert_exporter": "python",
      "pygments_lexer": "ipython3",
      "version": "3.6.8"
     }
    }
   ],
   "remote_diff": [
    {
     "key": "kernelspec",
     "op": "add",
     "value": {
      "display_name": "py37",
      "language": "python",
      "name": "py37"
     }
    },
    {
     "key": "language_info",
     "op": "add",
     "value": {
      "codemirror_mode": {
       "name": "ipython",
       "version": 3
      },
      "file_extension": ".py",
      "mimetype": "text/x-python",
      "name": "python",
      "nbconvert_exporter": "python",
      "pygments_lexer": "ipython3",
      "version": "3.7.3"
     }
    }
   ]
  }
 },
 "nbformat": 4,
 "nbformat_minor": 2
}
